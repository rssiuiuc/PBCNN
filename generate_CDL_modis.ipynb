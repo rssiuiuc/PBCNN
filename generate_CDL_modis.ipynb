{
 "cells": [
  {
   "cell_type": "code",
   "execution_count": 1,
   "metadata": {
    "colab": {
     "base_uri": "https://localhost:8080/"
    },
    "executionInfo": {
     "elapsed": 20065,
     "status": "ok",
     "timestamp": 1691008162735,
     "user": {
      "displayName": "Yin Liu",
      "userId": "06563538063839421840"
     },
     "user_tz": 420
    },
    "id": "6xb6qBJk7dKK",
    "outputId": "cb69455d-10f3-4729-f73a-7178bf4b5f97",
    "scrolled": true
   },
   "outputs": [
    {
     "data": {
      "text/html": [
       "<p>To authorize access needed by Earth Engine, open the following\n",
       "        URL in a web browser and follow the instructions:</p>\n",
       "        <p><a href=https://code.earthengine.google.com/client-auth?scopes=https%3A//www.googleapis.com/auth/earthengine%20https%3A//www.googleapis.com/auth/devstorage.full_control&request_id=uRn3n07CnG83YH4MbWsSKq3rIv6G8Efza5bsCUC0mIk&tc=HdQstMUemrdmLAfBrGriPs_SoO3vDJhPZ8R6hNhDG1M&cc=ctZA0pzTUTnvMkvW8rbhPMDZH70mhom-M8YkjpqwDBk>https://code.earthengine.google.com/client-auth?scopes=https%3A//www.googleapis.com/auth/earthengine%20https%3A//www.googleapis.com/auth/devstorage.full_control&request_id=uRn3n07CnG83YH4MbWsSKq3rIv6G8Efza5bsCUC0mIk&tc=HdQstMUemrdmLAfBrGriPs_SoO3vDJhPZ8R6hNhDG1M&cc=ctZA0pzTUTnvMkvW8rbhPMDZH70mhom-M8YkjpqwDBk</a></p>\n",
       "        <p>The authorization workflow will generate a code, which you should paste in the box below.</p>\n",
       "        "
      ],
      "text/plain": [
       "<IPython.core.display.HTML object>"
      ]
     },
     "metadata": {},
     "output_type": "display_data"
    },
    {
     "name": "stdout",
     "output_type": "stream",
     "text": [
      "\n",
      "Successfully saved authorization token.\n"
     ]
    }
   ],
   "source": [
    "import ee\n",
    "\n",
    "ee.Authenticate()\n",
    "ee.Initialize()"
   ]
  },
  {
   "cell_type": "markdown",
   "metadata": {
    "id": "GP8l53IebFoI"
   },
   "source": [
    "## Dataset"
   ]
  },
  {
   "cell_type": "code",
   "execution_count": 2,
   "metadata": {
    "executionInfo": {
     "elapsed": 5,
     "status": "ok",
     "timestamp": 1691008164749,
     "user": {
      "displayName": "Yin Liu",
      "userId": "06563538063839421840"
     },
     "user_tz": 420
    },
    "id": "PkvwwZyau_Yn"
   },
   "outputs": [],
   "source": [
    "start_year = 2019\n",
    "end_year = 2022"
   ]
  },
  {
   "cell_type": "markdown",
   "metadata": {
    "id": "IiEx5qhbBGHr"
   },
   "source": [
    "## Generate CDL at MODIS scale"
   ]
  },
  {
   "cell_type": "code",
   "execution_count": 3,
   "metadata": {
    "colab": {
     "base_uri": "https://localhost:8080/"
    },
    "executionInfo": {
     "elapsed": 1007,
     "status": "ok",
     "timestamp": 1691008167176,
     "user": {
      "displayName": "Yin Liu",
      "userId": "06563538063839421840"
     },
     "user_tz": 420
    },
    "id": "HQANCIR5BEWq",
    "outputId": "4760ab59-76a3-4a35-d270-f71ae693ece8"
   },
   "outputs": [
    {
     "name": "stdout",
     "output_type": "stream",
     "text": [
      "MODIS projection: {'type': 'Projection', 'crs': 'SR-ORG:6974', 'transform': [463.3127165279165, 0, -20015109.353988, 0, -463.3127165274999, 10007554.676994]}\n",
      "463.31271652770823\n"
     ]
    }
   ],
   "source": [
    "MODIS=ee.ImageCollection('MODIS/006/MCD12Q2').filterDate(str(start_year)+'-01-01',str(end_year)+'-12-31')\n",
    "\n",
    "# Get information about the MODIS projection and scale.\n",
    "modisProjection = MODIS.first().projection()\n",
    "print('MODIS projection:', modisProjection.getInfo())\n",
    "\n",
    "scale = MODIS.first().projection().nominalScale()\n",
    "print(scale.getInfo())"
   ]
  },
  {
   "cell_type": "markdown",
   "metadata": {},
   "source": [
    "### US CDL"
   ]
  },
  {
   "cell_type": "code",
   "execution_count": 4,
   "metadata": {
    "executionInfo": {
     "elapsed": 700,
     "status": "ok",
     "timestamp": 1691009626319,
     "user": {
      "displayName": "Yin Liu",
      "userId": "06563538063839421840"
     },
     "user_tz": 420
    },
    "id": "p-dVzBK7BXWx"
   },
   "outputs": [],
   "source": [
    "import time\n",
    "\n",
    "for year in range(start_year,end_year+1):\n",
    "\n",
    "    ## export pure pixel of CDL in MODIS projection\n",
    "    CDL_imgs = ee.ImageCollection('USDA/NASS/CDL')\\\n",
    "      .filterDate(str(year)+'-01-01',str(year)+'-12-31').select([0])\n",
    "    CDL_img = ee.Image(CDL_imgs.first()).eq(5)\n",
    "\n",
    "    CDL_img_mean = CDL_img.reduceResolution(**{\n",
    "      'reducer': ee.Reducer.mean(),\n",
    "#       'bestEffort': True,\n",
    "      'maxPixels': 1024\n",
    "    }).reproject(**{\n",
    "      'crs': modisProjection\n",
    "    })\n",
    "\n",
    "    region1 = ee.Geometry.Rectangle([-105, 35, -93, 49])\n",
    "    region2 = ee.Geometry.Rectangle([-93, 35, -78, 49])\n",
    "    \n",
    "    while True:\n",
    "        try:\n",
    "            # export to assets\n",
    "            task = ee.batch.Export.image.toAsset(**{\n",
    "            'image': CDL_img_mean,\n",
    "            'description': 'CDL_soybean_1_'+str(year),\n",
    "            'assetId': 'projects/ee-zcs/assets/CDL_500_MODIS/CDL_soybean_1_'+str(year), # replace with your own path\n",
    "            'scale': scale,\n",
    "            'region': region1\n",
    "            })\n",
    "            task.start()\n",
    "\n",
    "            time.sleep(10)\n",
    "\n",
    "            task2 = ee.batch.Export.image.toAsset(**{\n",
    "            'image': CDL_img_mean,\n",
    "            'description': 'CDL_soybean_2_'+str(year),\n",
    "            'assetId': 'projects/ee-zcs/assets/CDL_500_MODIS/CDL_soybean_2_'+str(year), # replace with your own path\n",
    "            'scale': scale,\n",
    "            'region': region2\n",
    "            })\n",
    "            task2.start()\n",
    "        except:\n",
    "            print('retry')\n",
    "            time.sleep(60)\n",
    "            continue\n",
    "        break\n",
    "        "
   ]
  },
  {
   "cell_type": "markdown",
   "metadata": {},
   "source": [
    "## Compond Every CDL images"
   ]
  },
  {
   "cell_type": "code",
   "execution_count": 5,
   "metadata": {},
   "outputs": [],
   "source": [
    "\n",
    "for i in range(2019,2023):\n",
    "    year=str(i)\n",
    "    specific_date = ee.Date(year+'-01-01')\n",
    "    CDL1 = ee.Image('projects/ee-zcs/assets/CDL_500_MODIS/CDL_soybean_1_'+year)\n",
    "    CDL2 = ee.Image('projects/ee-zcs/assets/CDL_500_MODIS/CDL_soybean_2_'+year)\n",
    "    CDL = ee.ImageCollection([CDL1, CDL2]).mosaic().set('system:time_start', specific_date.millis())\n",
    "\n",
    "    region = ee.Geometry.Rectangle([-105, 35, -78, 49])\n",
    "\n",
    "    task = ee.batch.Export.image.toAsset(**{\n",
    "        'image': CDL,\n",
    "        'description': 'CDL_soybean_CB_'+str(year),\n",
    "        'assetId': 'projects/ee-zcs/assets/CDL_500_MODIS/CDL_soybean_CB_'+str(year), # replace with your own path\n",
    "        'scale': scale,\n",
    "        'region': region\n",
    "        })\n",
    "    try:\n",
    "        task.start()\n",
    "    except:\n",
    "        print('fail')"
   ]
  }
 ],
 "metadata": {
  "colab": {
   "provenance": []
  },
  "kernelspec": {
   "display_name": "Python 3 (ipykernel)",
   "language": "python",
   "name": "python3"
  },
  "language_info": {
   "codemirror_mode": {
    "name": "ipython",
    "version": 3
   },
   "file_extension": ".py",
   "mimetype": "text/x-python",
   "name": "python",
   "nbconvert_exporter": "python",
   "pygments_lexer": "ipython3",
   "version": "3.10.9"
  }
 },
 "nbformat": 4,
 "nbformat_minor": 1
}
